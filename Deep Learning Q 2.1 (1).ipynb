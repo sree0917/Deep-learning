{
 "cells": [
  {
   "cell_type": "code",
   "execution_count": 1,
   "metadata": {},
   "outputs": [
    {
     "name": "stdout",
     "output_type": "stream",
     "text": [
      "WARNING:tensorflow:From /Library/Frameworks/Python.framework/Versions/3.7/lib/python3.7/site-packages/tensorflow_core/python/compat/v2_compat.py:65: disable_resource_variables (from tensorflow.python.ops.variable_scope) is deprecated and will be removed in a future version.\n",
      "Instructions for updating:\n",
      "non-resource variables are not supported in the long term\n"
     ]
    }
   ],
   "source": [
    "from sklearn import datasets,model_selection\n",
    "import numpy as np\n",
    "\n",
    "import tensorflow.compat.v1 as tf\n",
    "tf.disable_v2_behavior()"
   ]
  },
  {
   "cell_type": "code",
   "execution_count": 3,
   "metadata": {},
   "outputs": [
    {
     "name": "stdout",
     "output_type": "stream",
     "text": [
      "Enter the number of samples\n",
      "10000\n"
     ]
    }
   ],
   "source": [
    "# getting the value fo X and y\n",
    "n_samples = int(input('Enter the number of samples\\n')) \n",
    "D=150\n",
    "X_data=np.random.normal(0,1,(n_samples,D))\n",
    "r=60\n",
    "n=10\n",
    "U_initial=np.random.normal(0,np.sqrt(1/r),(n,r)) # 60x10 matrix with normal distribution\n",
    "V_initial=np.random.normal(0,1/D,(D,r)) # 150x60 matrix with elemnts normally \n",
    "\n",
    "def getY(x,U=U_initial,V=V_initial): # this function is executed for each sample\n",
    "    temp=np.matmul(V.T,x) # 60x1 matrix\n",
    "    temp2=np.maximum(temp,0) # 60x1 matrix\n",
    "    temp3=np.matmul(U,temp2) # 10x1 matrix\n",
    "    return temp3\n",
    "\n",
    "# defining the labels\n",
    "y_data=[]\n",
    "for i in range(0,len(X_data)):\n",
    "    y_data.append(getY(X_data[i]))\n",
    "y_data=np.array(y_data)\n",
    "    \n",
    "#splitting the data into trainig and test sets\n",
    "from sklearn.model_selection import train_test_split\n",
    "X_train, X_test, y_train, y_test = train_test_split( X_data, y_data, test_size=0.20, random_state=42)\n",
    "\n",
    "# getting mini batches\n",
    "def getBatch(tempX, tempY, batch_size): #Take the training data and Batch size as input\n",
    "    index = np.random.randint(0, len(tempX), batch_size) #Get the random index number\n",
    "    X_batch = tempX[index]\n",
    "    y_batch = tempY[index]\n",
    "    return X_batch,y_batch\n"
   ]
  },
  {
   "cell_type": "code",
   "execution_count": 22,
   "metadata": {},
   "outputs": [
    {
     "name": "stdout",
     "output_type": "stream",
     "text": [
      "The average values of the norms are as follows:\n",
      "\n",
      "Batch 0:\t0.036300471965047126\n",
      "Batch 1:\t0.038623800793008256\n",
      "Batch 2:\t0.03384787376733371\n",
      "Batch 3:\t0.030237489713309116\n",
      "Batch 4:\t0.03477862008662543\n",
      "Batch 5:\t0.03125470752564348\n",
      "Batch 6:\t0.03525572234482212\n",
      "Batch 7:\t0.03145229639663502\n",
      "Batch 8:\t0.037672346873240115\n",
      "Batch 9:\t0.03619001384060867\n"
     ]
    }
   ],
   "source": [
    "def getAverage(mini_batch):# get each mini batch\n",
    "    temp=[]\n",
    "    sum=0\n",
    "    for index,val in enumerate(mini_batch):\n",
    "        temp2=(np.linalg.norm(val))**2\n",
    "        temp.append(temp2)\n",
    "    for index,i in enumerate(temp):\n",
    "        sum+=i\n",
    "    average=sum/len(temp)\n",
    "    return average \n",
    "    \n",
    "# generating mini batches of size 50 and and printing the average of the norm for each mini batch\n",
    "\n",
    "the_averages=[]\n",
    "print('The average values of the norms are as follows:\\n')\n",
    "for i in range(0,10):\n",
    "    tempX,tempY=getBatch(X_data,y_data,batch_size=50)\n",
    "    avg=getAverage(tempY)\n",
    "    the_averages.append(avg)\n",
    "    print('Batch ' + str(i) +':\\t' +str(avg))"
   ]
  },
  {
   "cell_type": "code",
   "execution_count": 23,
   "metadata": {},
   "outputs": [
    {
     "data": {
      "text/plain": [
       "[0.036300471965047126,\n",
       " 0.038623800793008256,\n",
       " 0.03384787376733371,\n",
       " 0.030237489713309116,\n",
       " 0.03477862008662543,\n",
       " 0.03125470752564348,\n",
       " 0.03525572234482212,\n",
       " 0.03145229639663502,\n",
       " 0.037672346873240115,\n",
       " 0.03619001384060867]"
      ]
     },
     "execution_count": 23,
     "metadata": {},
     "output_type": "execute_result"
    }
   ],
   "source": [
    "the_averages"
   ]
  },
  {
   "cell_type": "code",
   "execution_count": null,
   "metadata": {},
   "outputs": [],
   "source": []
  }
 ],
 "metadata": {
  "kernelspec": {
   "display_name": "Python 3",
   "language": "python",
   "name": "python3"
  },
  "language_info": {
   "codemirror_mode": {
    "name": "ipython",
    "version": 3
   },
   "file_extension": ".py",
   "mimetype": "text/x-python",
   "name": "python",
   "nbconvert_exporter": "python",
   "pygments_lexer": "ipython3",
   "version": "3.7.4"
  }
 },
 "nbformat": 4,
 "nbformat_minor": 2
}
