{
 "cells": [
  {
   "cell_type": "code",
   "execution_count": 31,
   "metadata": {},
   "outputs": [],
   "source": [
    "from sklearn import datasets,model_selection\n",
    "import numpy as np\n",
    "\n",
    "import tensorflow.compat.v1 as tf\n",
    "tf.disable_v2_behavior()"
   ]
  },
  {
   "cell_type": "code",
   "execution_count": 32,
   "metadata": {},
   "outputs": [],
   "source": [
    "# getting the value fo X and y\n",
    "n_samples = 10000 # change this to n_samples=input('enter the number of samples/n')\n",
    "D=150\n",
    "X_data=np.random.normal(0,1,(n_samples,D))\n",
    "r_0=60\n",
    "r=2*r_0\n",
    "n=10\n",
    "U_initial=np.random.normal(0,np.sqrt(1/r),(n,r)) # 60x10 matrix with normal distribution\n",
    "V_initial=np.random.normal(0,1/D,(D,r)) # 150x60 matrix with elemnts normally \n",
    "\n",
    "def getY(x,U=U_initial,V=V_initial): # this function is executed for each sample\n",
    "    temp=np.matmul(V.T,x) # 60x1 matrix\n",
    "    temp2=np.maximum(temp,0) # 60x1 matrix\n",
    "    temp3=np.matmul(U,temp2) # 10x1 matrix\n",
    "    return temp3\n",
    "\n",
    "# defining the labels\n",
    "y_data=[]\n",
    "for i in range(0,len(X_data)):\n",
    "    y_data.append(getY(X_data[i]))\n",
    "y_data=np.array(y_data)\n",
    "    \n",
    "#splitting the data into trainig and test sets\n",
    "from sklearn.model_selection import train_test_split\n",
    "X_train, X_test, y_train, y_test = train_test_split( X_data, y_data, test_size=0.50, random_state=42) # same number of test and training samples, as it is in the paper\n",
    "\n",
    "# getting mini batches\n",
    "def getBatch(tempX, tempY, batch_size): #Take the training data and Batch size as input\n",
    "    index = np.random.randint(0, len(tempX), batch_size) #Get the random index number\n",
    "    X_batch = tempX[index]\n",
    "    y_batch = tempY[index]\n",
    "    return X_batch,y_batch\n",
    "\n",
    "#Placeholders\n",
    "X = tf.placeholder(tf.float32, shape =(None, D), name = 'X' ) #Place holder for training data X\n",
    "y = tf.placeholder(tf.float32, shape =(None, n), name = 'y' ) #Place holder for training label data y\n",
    "V = tf.Variable(tf.random_normal([D,r], 0, np.sqrt(1/D), seed=42), name='V') #Initialize the Random value for theta\n",
    "U = tf.Variable(tf.random_normal([r,n], 0, np.sqrt(1/r), seed=42, name='U'))\n",
    "#Operations\n",
    "mul = tf.matmul(X, V, name='mul') # r X None\n",
    "tempy = tf.nn.relu(mul,name='tempy') \n",
    "y_new=tf.matmul(tempy, U) # n X None\n",
    "loss = tf.losses.mean_squared_error(y, y_new) #Loss function\n",
    "\n",
    "learning_rates = [10**-4,10**-3,10**-2,10**-1]\n",
    "def theModel(learning_rate):\n",
    "    optimizer = tf.train.GradientDescentOptimizer(learning_rate=learning_rate)\n",
    "    training_objective = optimizer.minimize(loss)\n",
    "\n",
    "    init = tf.global_variables_initializer()\n",
    "\n",
    "    epochs = 20\n",
    "    batch_size = 10\n",
    "    batches = int(np.ceil(n_samples / batch_size))\n",
    "    \n",
    "    average=[]\n",
    "    with tf.Session() as sess:\n",
    "        sess.run(init)\n",
    "\n",
    "        for epoch in range(epochs):\n",
    "            tempValue=0\n",
    "            for i in range(batches):\n",
    "                X_batch, y_batch = getBatch(X_train, y_train, batch_size)\n",
    "                sess.run(training_objective, feed_dict={X: X_batch, y: y_batch})\n",
    "                loss_value = loss.eval({X: X_test, y: y_test})\n",
    "                tempValue+=loss_value\n",
    "            \n",
    "            average.append(tempValue/batches)\n",
    "    return average"
   ]
  },
  {
   "cell_type": "code",
   "execution_count": 33,
   "metadata": {},
   "outputs": [],
   "source": [
    "# getting the average values corresponding to all of the learning rates\n",
    "average_1=theModel(learning_rates[0]) # average values corrsponding to the first element in the array 'learning_rates'(0.0001)\n",
    "average_2=theModel(learning_rates[1])\n",
    "average_3=theModel(learning_rates[2]) \n",
    "average_4=theModel(learning_rates[3])\n",
    "epoch_values=np.arange(1,21)"
   ]
  },
  {
   "cell_type": "code",
   "execution_count": 41,
   "metadata": {},
   "outputs": [
    {
     "data": {
      "text/plain": [
       "<matplotlib.legend.Legend at 0x1397db090>"
      ]
     },
     "execution_count": 41,
     "metadata": {},
     "output_type": "execute_result"
    },
    {
     "data": {
      "image/png": "[encoded data removed]",
      "text/plain": [
       "<Figure size 432x288 with 1 Axes>"
      ]
     },
     "metadata": {
      "needs_background": "light"
     },
     "output_type": "display_data"
    }
   ],
   "source": [
    "# plotting the values\n",
    "import matplotlib.pyplot as plt\n",
    "plt.xlabel('#epoch')\n",
    "plt.ylabel('Average objective value')\n",
    "plt.plot(epoch_values,average_1, label=\"learning_rate=0.1\")\n",
    "plt.plot(epoch_values,average_2, label=\"learning_rate=0.01\")\n",
    "plt.plot(epoch_values,average_3, label=\"learning_rate=0.001\")\n",
    "plt.plot(epoch_values,average_4, label=\"learning_rate=0.0001\")\n",
    "plt.plot(figsize=(20,15))\n",
    "plt.legend(bbox_to_anchor=(0., 1.02, 1., .102), loc='lower left',\n",
    "           ncol=2, mode=\"expand\", borderaxespad=0.)"
   ]
  },
  {
   "cell_type": "markdown",
   "metadata": {},
   "source": [
    "Here the lowest value of the objective function is obtained when learning_rate=0.0001 when epoch=20. The corresponding objective value is 0.0012692511955974624.\n",
    "\n"
   ]
  },
  {
   "cell_type": "code",
   "execution_count": 44,
   "metadata": {},
   "outputs": [
    {
     "data": {
      "text/plain": [
       "0.0012692511955974624"
      ]
     },
     "execution_count": 44,
     "metadata": {},
     "output_type": "execute_result"
    }
   ],
   "source": [
    "average_4[19]"
   ]
  }
 ],
 "metadata": {
  "kernelspec": {
   "display_name": "Python 3",
   "language": "python",
   "name": "python3"
  },
  "language_info": {
   "codemirror_mode": {
    "name": "ipython",
    "version": 3
   },
   "file_extension": ".py",
   "mimetype": "text/x-python",
   "name": "python",
   "nbconvert_exporter": "python",
   "pygments_lexer": "ipython3",
   "version": "3.7.4"
  }
 },
 "nbformat": 4,
 "nbformat_minor": 2
}
