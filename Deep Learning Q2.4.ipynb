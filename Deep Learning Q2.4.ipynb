{
 "cells": [
  {
   "cell_type": "code",
   "execution_count": 15,
   "metadata": {},
   "outputs": [],
   "source": [
    "from sklearn import datasets,model_selection\n",
    "import numpy as np\n",
    "\n",
    "import tensorflow.compat.v1 as tf\n",
    "tf.disable_v2_behavior()"
   ]
  },
  {
   "cell_type": "code",
   "execution_count": 16,
   "metadata": {},
   "outputs": [],
   "source": [
    "# getting the value fo X and y\n",
    "n_samples = 10000\n",
    "D=150\n",
    "X_data=np.random.normal(0,1,(n_samples,D))\n",
    "r_values=[60,120,240,480]\n",
    "n=10\n",
    "U_initial=np.random.normal(0,np.sqrt(1/r),(n,r)) # 60x10 matrix with normal distribution\n",
    "V_initial=np.random.normal(0,1/D,(D,r)) # 150x60 matrix with elemnts normally \n",
    "\n",
    "def getY(x,U=U_initial,V=V_initial): # this function is executed for each sample\n",
    "    temp=np.matmul(V.T,x) # 60x1 matrix\n",
    "    temp2=np.maximum(temp,0) # 60x1 matrix\n",
    "    temp3=np.matmul(U,temp2) # 10x1 matrix\n",
    "    return temp3\n",
    "\n",
    "# defining the labels\n",
    "y_data=[]\n",
    "for i in range(0,len(X_data)):\n",
    "    y_data.append(getY(X_data[i]))\n",
    "y_data=np.array(y_data)\n",
    "    \n",
    "#splitting the data into trainig and test sets\n",
    "from sklearn.model_selection import train_test_split\n",
    "X_train, X_test, y_train, y_test = train_test_split( X_data, y_data, test_size=0.50, random_state=42)\n",
    "\n",
    "# getting mini batches\n",
    "def getBatch(tempX, tempY, batch_size): #Take the training data and Batch size as input\n",
    "    index = np.random.randint(0, len(tempX), batch_size) #Get the random index number\n",
    "    X_batch = tempX[index]\n",
    "    y_batch = tempY[index]\n",
    "    return X_batch,y_batch\n",
    "\n",
    "def RModel(r):\n",
    "    #Placeholders\n",
    "    X = tf.placeholder(tf.float32, shape =(None, D), name = 'X' ) #Place holder for training data X\n",
    "    y = tf.placeholder(tf.float32, shape =(None, n), name = 'y' ) #Place holder for training label data y\n",
    "    V = tf.Variable(tf.random_normal([D,r], 0, np.sqrt(1/D), seed=42), name='V') #Initialize the Random value for theta\n",
    "    U = tf.Variable(tf.random_normal([r,n], 0, np.sqrt(1/r), seed=42, name='U'))\n",
    "    #Operations\n",
    "    mul = tf.matmul(X, V, name='mul') # r X None\n",
    "    tempy = tf.nn.relu(mul,name='tempy') \n",
    "    y_new=tf.matmul(tempy, U) # n X None\n",
    "    loss = tf.losses.mean_squared_error(y, y_new) #Loss function\n",
    "\n",
    "    learning_rate = 0.0001 # the optimum value obtained from the last experiment\n",
    "    optimizer = tf.train.GradientDescentOptimizer(learning_rate=learning_rate)\n",
    "    training_objective = optimizer.minimize(loss)\n",
    "\n",
    "    init = tf.global_variables_initializer()\n",
    "\n",
    "\n",
    "    epochs = 200\n",
    "    batch_size = 10\n",
    "    batches = int(np.ceil(n_samples / batch_size)) # as each epoch contains 10000 samples (n_samples=10000)\n",
    "\n",
    "    average=[]\n",
    "    with tf.Session() as sess:\n",
    "        sess.run(init)\n",
    "\n",
    "        for epoch in range(epochs):\n",
    "            tempValue=0\n",
    "            for i in range(batches):            \n",
    "                X_batch, y_batch = getBatch(X_train, y_train, batch_size)\n",
    "                sess.run(training_objective, feed_dict={X: X_batch, y: y_batch})\n",
    "                loss_value = loss.eval({X: X_test, y: y_test})\n",
    "                tempValue+=loss_value\n",
    "                \n",
    "            average.append(tempValue/batches) # getting the average mini-batch objective value for each epoch\n",
    "    return average      "
   ]
  },
  {
   "cell_type": "code",
   "execution_count": 17,
   "metadata": {},
   "outputs": [],
   "source": [
    "average_60=RModel(60)"
   ]
  },
  {
   "cell_type": "code",
   "execution_count": 18,
   "metadata": {},
   "outputs": [],
   "source": [
    "average_120=RModel(120)"
   ]
  },
  {
   "cell_type": "code",
   "execution_count": 19,
   "metadata": {},
   "outputs": [],
   "source": [
    "average_240=RModel(240)"
   ]
  },
  {
   "cell_type": "code",
   "execution_count": 20,
   "metadata": {},
   "outputs": [],
   "source": [
    "average_480=RModel(480)"
   ]
  },
  {
   "cell_type": "code",
   "execution_count": 21,
   "metadata": {},
   "outputs": [],
   "source": [
    "epoch_number=np.arange(1,201)"
   ]
  },
  {
   "cell_type": "code",
   "execution_count": 24,
   "metadata": {},
   "outputs": [
    {
     "data": {
      "text/plain": [
       "<matplotlib.legend.Legend at 0x13930dbd0>"
      ]
     },
     "execution_count": 24,
     "metadata": {},
     "output_type": "execute_result"
    },
    {
     "data": {
      "image/png": "[encoded data removed]",
      "text/plain": [
       "<Figure size 432x288 with 1 Axes>"
      ]
     },
     "metadata": {
      "needs_background": "light"
     },
     "output_type": "display_data"
    }
   ],
   "source": [
    "# plotting the values\n",
    "import matplotlib.pyplot as plt\n",
    "plt.xlabel('#epoch')\n",
    "plt.ylabel('Average objective value')\n",
    "plt.plot(epoch_number,average_60, label=\"r=60\")\n",
    "plt.plot(epoch_number,average_120, label=\"r=120\")\n",
    "plt.plot(epoch_number,average_240, label=\"r=240\")\n",
    "plt.plot(epoch_number,average_480, label=\"r=480\")\n",
    "plt.plot(figsize=(20,15))\n",
    "plt.legend(bbox_to_anchor=(0., 1.02, 1., .102), loc='lower left',\n",
    "           ncol=2, mode=\"expand\", borderaxespad=0.)"
   ]
  },
  {
   "cell_type": "code",
   "execution_count": null,
   "metadata": {},
   "outputs": [],
   "source": []
  }
 ],
 "metadata": {
  "kernelspec": {
   "display_name": "Python 3",
   "language": "python",
   "name": "python3"
  },
  "language_info": {
   "codemirror_mode": {
    "name": "ipython",
    "version": 3
   },
   "file_extension": ".py",
   "mimetype": "text/x-python",
   "name": "python",
   "nbconvert_exporter": "python",
   "pygments_lexer": "ipython3",
   "version": "3.7.4"
  }
 },
 "nbformat": 4,
 "nbformat_minor": 2
}
